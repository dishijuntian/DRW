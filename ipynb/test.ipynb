{
 "cells": [
  {
   "cell_type": "code",
   "execution_count": 1,
   "metadata": {},
   "outputs": [],
   "source": [
    "import pandas as pd\n",
    "import numpy as np\n",
    "import matplotlib.pyplot as plt\n",
    "from sklearn.feature_selection import mutual_info_regression\n",
    "from joblib import Parallel, delayed\n",
    "from tqdm import tqdm\n"
   ]
  },
  {
   "cell_type": "code",
   "execution_count": 2,
   "metadata": {},
   "outputs": [],
   "source": [
    "train_path: str = \"../kaggle/input/drw-crypto-market-prediction/train.parquet\"\n",
    "test_path: str = \"../kaggle/input/drw-crypto-market-prediction/test.parquet\"\n",
    "\n",
    "train_data = pd.read_parquet(train_path)\n",
    "test_data = pd.read_parquet(test_path)\n"
   ]
  },
  {
   "cell_type": "code",
   "execution_count": 3,
   "metadata": {},
   "outputs": [],
   "source": [
    "# 剔除零方差因子\n",
    "zero_var_cols = train_data.columns[train_data.nunique() == 1]\n",
    "train_data = train_data.drop(columns=zero_var_cols)\n",
    "test_data = test_data.drop(columns=zero_var_cols)\n"
   ]
  },
  {
   "cell_type": "code",
   "execution_count": 4,
   "metadata": {},
   "outputs": [
    {
     "name": "stderr",
     "output_type": "stream",
     "text": [
      "Computing Mutual Information: 100%|██████████| 868/868 [06:20<00:00,  2.28it/s]\n"
     ]
    }
   ],
   "source": [
    "# 准备数据\n",
    "y = train_data['label']\n",
    "X = train_data.drop(columns=['label']).fillna(0)\n",
    "\n",
    "# 使用 joblib + tqdm 对 mutual_info_regression 并行处理每一列\n",
    "def compute_mi_for_column(col):\n",
    "    return mutual_info_regression(X[[col]], y, discrete_features='auto')[0]\n",
    "\n",
    "# 使用 tqdm 包装列名以显示进度条\n",
    "mi_scores = Parallel(n_jobs=-1)(\n",
    "    delayed(compute_mi_for_column)(col) for col in tqdm(X.columns, desc=\"Computing Mutual Information\")\n",
    ")\n",
    "\n",
    "# 组织结果为 Series\n",
    "mi_ranking = pd.Series(mi_scores, index=X.columns).sort_values(ascending=False)\n",
    "selected_factor_names = mi_ranking.sort_values(ascending=False).head(20).index.tolist()"
   ]
  },
  {
   "cell_type": "code",
   "execution_count": 5,
   "metadata": {},
   "outputs": [],
   "source": [
    "y_train = train_data['label']\n",
    "X_train = train_data[selected_factor_names].fillna(0)\n",
    "y_test = test_data['label']\n",
    "X_test = test_data[selected_factor_names].fillna(0)\n",
    "\n",
    "\n",
    "import pandas as pd\n",
    "import os\n",
    "\n",
    "# 指定输出目录\n",
    "output_dir = '../kaggle/input'\n",
    "os.makedirs(output_dir, exist_ok=True)  # 如果目录不存在则创建\n",
    "\n",
    "# 保存为 CSV 文件\n",
    "X_train.to_parquet(os.path.join(output_dir, 'X_train.parquet'), index=False)\n",
    "X_test.to_parquet(os.path.join(output_dir, 'X_test.parquet'), index=False)\n",
    "# 将 Series 转换为 DataFrame（添加列名）\n",
    "y_train.to_frame('label').to_parquet(os.path.join(output_dir, 'y_train.parquet'), index=False)\n",
    "y_test.to_frame('label').to_parquet(os.path.join(output_dir, 'y_test.parquet'), index=False)"
   ]
  },
  {
   "cell_type": "code",
   "execution_count": 6,
   "metadata": {},
   "outputs": [
    {
     "name": "stdout",
     "output_type": "stream",
     "text": [
      "<class 'pandas.core.frame.DataFrame'>\n",
      "DatetimeIndex: 525887 entries, 2023-03-01 00:00:00 to 2024-02-29 23:59:00\n",
      "Data columns (total 20 columns):\n",
      " #   Column  Non-Null Count   Dtype  \n",
      "---  ------  --------------   -----  \n",
      " 0   X853    525887 non-null  float64\n",
      " 1   X854    525887 non-null  float64\n",
      " 2   X862    525887 non-null  float64\n",
      " 3   X881    525887 non-null  float64\n",
      " 4   X880    525887 non-null  float64\n",
      " 5   X879    525887 non-null  float64\n",
      " 6   X137    525887 non-null  float64\n",
      " 7   X882    525887 non-null  float64\n",
      " 8   X873    525887 non-null  float64\n",
      " 9   X95     525887 non-null  float64\n",
      " 10  X179    525887 non-null  float64\n",
      " 11  X140    525887 non-null  float64\n",
      " 12  X98     525887 non-null  float64\n",
      " 13  X182    525887 non-null  float64\n",
      " 14  X889    525887 non-null  float64\n",
      " 15  X883    525887 non-null  float64\n",
      " 16  X878    525887 non-null  float64\n",
      " 17  X181    525887 non-null  float64\n",
      " 18  X384    525887 non-null  float64\n",
      " 19  X387    525887 non-null  float64\n",
      "dtypes: float64(20)\n",
      "memory usage: 84.3 MB\n"
     ]
    }
   ],
   "source": [
    "X_train.info()\n"
   ]
  },
  {
   "cell_type": "code",
   "execution_count": 7,
   "metadata": {},
   "outputs": [],
   "source": [
    "X_train_columns = X_train.columns.tolist()\n"
   ]
  },
  {
   "cell_type": "code",
   "execution_count": 8,
   "metadata": {},
   "outputs": [
    {
     "data": {
      "text/plain": [
       "['X853',\n",
       " 'X854',\n",
       " 'X862',\n",
       " 'X881',\n",
       " 'X880',\n",
       " 'X879',\n",
       " 'X137',\n",
       " 'X882',\n",
       " 'X873',\n",
       " 'X95',\n",
       " 'X179',\n",
       " 'X140',\n",
       " 'X98',\n",
       " 'X182',\n",
       " 'X889',\n",
       " 'X883',\n",
       " 'X878',\n",
       " 'X181',\n",
       " 'X384',\n",
       " 'X387']"
      ]
     },
     "execution_count": 8,
     "metadata": {},
     "output_type": "execute_result"
    }
   ],
   "source": [
    "X_train_columns"
   ]
  },
  {
   "cell_type": "code",
   "execution_count": 9,
   "metadata": {},
   "outputs": [],
   "source": [
    "# import pandas as pd\n",
    "# import os\n",
    "\n",
    "# # 列名列表\n",
    "# name = ['X534', 'X520', 'X866', 'X856', 'X635', 'X552', 'X632', 'X584', 'X763', 'X850', 'X783', 'X388', 'X524', 'X755', 'X647', 'X589', 'X868', 'X597', 'X795', 'X346', 'X819', 'X394', 'X839', 'X556', 'X739', 'X569', 'X515', 'X543', 'X815', 'X861', 'X585', 'X512', 'X557', 'X573', 'X851', 'X614', 'X546', 'X536', 'X617', 'X854', 'X145', 'X759', 'X142', 'X598', 'X505', 'X563', 'X577', 'X542', 'X527', 'X396', 'X862', 'X545', 'X863', 'X811', 'X735', 'X559', 'X791', 'X747', 'X595', 'X144', 'X519', 'X582', 'X522', 'X564', 'X551', 'X537', 'X855', 'X561', 'X593', 'X576', 'X587', 'X844', 'X143', 'X592', 'X849', 'X779', 'X571', 'X807', 'X97', 'X562', 'X568', 'X857', 'X503', 'X767', 'X540', 'X827', 'X495', 'X521', 'X847', 'X591', 'X541', 'X141', 'X586', 'X391', 'ask_qty', 'X775', 'X501', 'X247', 'X648', 'X860', 'X554', 'X535', 'X835', 'X496', 'X528', 'X566', 'X189', 'X578', 'X517', 'X859', 'X548', 'X544', 'label', 'X743', 'X771', 'X843', 'X550', 'X500', 'X623', 'X570', 'X507', 'X846', 'X508', 'X787', 'X499', 'X852', 'X498', 'X538', 'X858', 'X506', 'X555', 'X823', 'X620', 'X848', 'X590', 'X583', 'X549', 'X799', 'X547', 'X831', 'X853', 'X751', 'X803', 'X845', 'X865', 'X514', 'X390', 'X392', 'X575', 'X645', 'X502', 'X529', 'X644']\n",
    "\n",
    "# # 文件路径\n",
    "# X_train_path = \"../kaggle/input/X_train.parquet\"\n",
    "# X_test_path = \"../kaggle/input/X_test.parquet\"\n",
    "\n",
    "# # 检查文件是否存在\n",
    "# for file_path in [X_train_path, X_test_path]:\n",
    "#     if not os.path.exists(file_path):\n",
    "#         print(f\"错误: 文件 {file_path} 不存在\")\n",
    "#         exit(1)\n",
    "\n",
    "# try:\n",
    "#     # 读取文件\n",
    "#     X_train = pd.read_parquet(X_train_path)\n",
    "#     X_test = pd.read_parquet(X_test_path)\n",
    "    \n",
    "#     # 获取实际存在的列名\n",
    "#     X_train_columns = X_train.columns.tolist()\n",
    "#     X_test_columns = X_test.columns.tolist()\n",
    "    \n",
    "#     # 筛选列名\n",
    "#     X_train_common = [col for col in name if col in X_train_columns]\n",
    "#     X_test_common = [col for col in name if col in X_test_columns]\n",
    "    \n",
    "#     # 筛选数据\n",
    "#     if X_train_common:\n",
    "#         X_train = X_train[X_train_common].fillna(0)\n",
    "#         print(f\"X_train 筛选出 {len(X_train_common)} 列\")\n",
    "#     else:\n",
    "#         print(\"警告: X_train 中未找到匹配的列\")\n",
    "    \n",
    "#     if X_test_common:\n",
    "#         X_test = X_test[X_test_common].fillna(0)\n",
    "#         print(f\"X_test 筛选出 {len(X_test_common)} 列\")\n",
    "#     else:\n",
    "#         print(\"警告: X_test 中未找到匹配的列\")\n",
    "    \n",
    "#     # 覆盖保存文件\n",
    "#     X_train.to_parquet(X_train_path)\n",
    "#     X_test.to_parquet(X_test_path)\n",
    "    \n",
    "#     print(\"操作完成，文件已成功覆盖保存\")\n",
    "\n",
    "# except Exception as e:\n",
    "#     print(f\"发生错误: {e}\")\n",
    "\n",
    "# X_train.shape"
   ]
  },
  {
   "cell_type": "code",
   "execution_count": 10,
   "metadata": {},
   "outputs": [
    {
     "data": {
      "text/plain": [
       "['X853',\n",
       " 'X854',\n",
       " 'X862',\n",
       " 'X881',\n",
       " 'X880',\n",
       " 'X879',\n",
       " 'X137',\n",
       " 'X882',\n",
       " 'X873',\n",
       " 'X95',\n",
       " 'X179',\n",
       " 'X140',\n",
       " 'X98',\n",
       " 'X182',\n",
       " 'X889',\n",
       " 'X883',\n",
       " 'X878',\n",
       " 'X181',\n",
       " 'X384',\n",
       " 'X387']"
      ]
     },
     "execution_count": 10,
     "metadata": {},
     "output_type": "execute_result"
    }
   ],
   "source": [
    "X_train.columns.tolist()"
   ]
  }
 ],
 "metadata": {
  "kernelspec": {
   "display_name": "kaggle",
   "language": "python",
   "name": "python3"
  },
  "language_info": {
   "codemirror_mode": {
    "name": "ipython",
    "version": 3
   },
   "file_extension": ".py",
   "mimetype": "text/x-python",
   "name": "python",
   "nbconvert_exporter": "python",
   "pygments_lexer": "ipython3",
   "version": "3.11.4"
  },
  "orig_nbformat": 4
 },
 "nbformat": 4,
 "nbformat_minor": 2
}
